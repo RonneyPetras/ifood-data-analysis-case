{
  "nbformat": 4,
  "nbformat_minor": 0,
  "metadata": {
    "colab": {
      "provenance": [],
      "collapsed_sections": [
        "ZwabOHHaWs27"
      ],
      "mount_file_id": "1vzY90B0u1J9Ozq_WRDft4VGKRpVVqA9H",
      "authorship_tag": "ABX9TyMRqclYAvIJA97/RAQOZPL7",
      "include_colab_link": true
    },
    "kernelspec": {
      "name": "python3",
      "display_name": "Python 3"
    },
    "language_info": {
      "name": "python"
    }
  },
  "cells": [
    {
      "cell_type": "markdown",
      "metadata": {
        "id": "view-in-github",
        "colab_type": "text"
      },
      "source": [
        "<a href=\"https://colab.research.google.com/github/RonneyPetras/ifood-data-analysis-case/blob/main/02_ab_test_analysis.ipynb\" target=\"_parent\"><img src=\"https://colab.research.google.com/assets/colab-badge.svg\" alt=\"Open In Colab\"/></a>"
      ]
    },
    {
      "cell_type": "markdown",
      "source": [
        "# Analise do teste A/B Ifood - Questão 1"
      ],
      "metadata": {
        "id": "QRkMOcpVRmYh"
      }
    },
    {
      "cell_type": "markdown",
      "source": [
        "## Configurações essenciais\n",
        "\n"
      ],
      "metadata": {
        "id": "rU_QKbKwRoT7"
      }
    },
    {
      "cell_type": "markdown",
      "source": [
        "### Importando bibliotecas"
      ],
      "metadata": {
        "id": "I8lE7addRH3j"
      }
    },
    {
      "cell_type": "code",
      "source": [
        "import pandas as pd\n",
        "import os\n",
        "from google.colab import drive\n",
        "import matplotlib.pyplot as plt\n",
        "import seaborn as sns\n",
        "from scipy.stats import ttest_ind, chi2_contingency\n",
        "import numpy as np"
      ],
      "metadata": {
        "id": "pM7vi18ERuO8"
      },
      "execution_count": 1,
      "outputs": []
    },
    {
      "cell_type": "markdown",
      "source": [
        "### Montando o Gdrive, altere o caminho se necessário"
      ],
      "metadata": {
        "id": "ZwabOHHaWs27"
      }
    },
    {
      "cell_type": "code",
      "source": [
        "caminho_gdrive = \"/content/drive/MyDrive/ifood_case/ifood-data\" # @param {\"type\":\"string\"}"
      ],
      "metadata": {
        "id": "4VVDCaWsWqxa"
      },
      "execution_count": 2,
      "outputs": []
    },
    {
      "cell_type": "code",
      "source": [
        "drive.mount('/content/drive')\n",
        "\n",
        "# Define caminho (substitua SEU_DIRETORIO pelo nome da pasta que você quer usar)\n",
        "os.makedirs(caminho_gdrive, exist_ok=True)"
      ],
      "metadata": {
        "colab": {
          "base_uri": "https://localhost:8080/"
        },
        "id": "dGRSCyscZK2M",
        "outputId": "3ddc58ed-309f-4aae-89b5-8b4de93f399e"
      },
      "execution_count": 3,
      "outputs": [
        {
          "output_type": "stream",
          "name": "stdout",
          "text": [
            "Drive already mounted at /content/drive; to attempt to forcibly remount, call drive.mount(\"/content/drive\", force_remount=True).\n"
          ]
        }
      ]
    },
    {
      "cell_type": "markdown",
      "source": [
        "## Análises Iniciais"
      ],
      "metadata": {
        "id": "sctsvtIJSAi5"
      }
    },
    {
      "cell_type": "code",
      "source": [
        "df_pedidos_ab_teste = pd.read_parquet(caminho_gdrive + \"/pedidos_teste_ab.parquet\")\n",
        "df_pedidos_ab_teste.head()"
      ],
      "metadata": {
        "colab": {
          "base_uri": "https://localhost:8080/",
          "height": 226
        },
        "id": "5Au_fmO6R__e",
        "outputId": "50fcfb7b-92d9-4969-c89f-e77821b6d234"
      },
      "execution_count": 4,
      "outputs": [
        {
          "output_type": "execute_result",
          "data": {
            "text/plain": [
              "                                            order_id  \\\n",
              "0  ec00f7aec2f1b32bdaf6b359a91b60a1f58ce2cb452fed...   \n",
              "1  ee5ba707b0938b565107d0c86b8b4325d4941d06fc73ce...   \n",
              "2  c4d0992f315f48e2e145afacf302513699147ba43a187e...   \n",
              "3  992f50eaded5ffcf1ed2ad615b11bef0f226edac4b3430...   \n",
              "4  a6d507960380b270f9f19876dd53bd0d23eb5dd8410511...   \n",
              "\n",
              "                                         customer_id  order_total_amount  \\\n",
              "0  665c8547a9ea092ba84342bfc55103f1e8a5068f0a26a7...                32.8   \n",
              "1  5e35cb26472772592674730e8907e9e22428354fbd19e6...                38.1   \n",
              "2  56973dab976fe8b32cdeaa0795af4eddba963a5c992535...                50.2   \n",
              "3  5aeb6d21ff3e8f1c04e437d3cf677bf56a9ae899c381ba...                21.0   \n",
              "4  e80f08f1829cdbf06e2d24cf9880b41ee53f602dff8486...                21.0   \n",
              "\n",
              "                                         merchant_id is_target  \n",
              "0  c2b068129a510b4c4ed10ff16081428d077f6d3be44785...    target  \n",
              "1  355021c61bb358c499d4d6e4647010a43294463d091c45...    target  \n",
              "2  a9ef451e17cb419dce70451a1c9b733d5809a5aa196853...   control  \n",
              "3  2f9f3fd5434960270578ca3ea5360ef8eadd4454f67a5d...   control  \n",
              "4  3e6131f15538a060e898ec02926240ccee9619fd21710d...    target  "
            ],
            "text/html": [
              "\n",
              "  <div id=\"df-5482959b-73c2-4245-9ae7-3d4c738ceff8\" class=\"colab-df-container\">\n",
              "    <div>\n",
              "<style scoped>\n",
              "    .dataframe tbody tr th:only-of-type {\n",
              "        vertical-align: middle;\n",
              "    }\n",
              "\n",
              "    .dataframe tbody tr th {\n",
              "        vertical-align: top;\n",
              "    }\n",
              "\n",
              "    .dataframe thead th {\n",
              "        text-align: right;\n",
              "    }\n",
              "</style>\n",
              "<table border=\"1\" class=\"dataframe\">\n",
              "  <thead>\n",
              "    <tr style=\"text-align: right;\">\n",
              "      <th></th>\n",
              "      <th>order_id</th>\n",
              "      <th>customer_id</th>\n",
              "      <th>order_total_amount</th>\n",
              "      <th>merchant_id</th>\n",
              "      <th>is_target</th>\n",
              "    </tr>\n",
              "  </thead>\n",
              "  <tbody>\n",
              "    <tr>\n",
              "      <th>0</th>\n",
              "      <td>ec00f7aec2f1b32bdaf6b359a91b60a1f58ce2cb452fed...</td>\n",
              "      <td>665c8547a9ea092ba84342bfc55103f1e8a5068f0a26a7...</td>\n",
              "      <td>32.8</td>\n",
              "      <td>c2b068129a510b4c4ed10ff16081428d077f6d3be44785...</td>\n",
              "      <td>target</td>\n",
              "    </tr>\n",
              "    <tr>\n",
              "      <th>1</th>\n",
              "      <td>ee5ba707b0938b565107d0c86b8b4325d4941d06fc73ce...</td>\n",
              "      <td>5e35cb26472772592674730e8907e9e22428354fbd19e6...</td>\n",
              "      <td>38.1</td>\n",
              "      <td>355021c61bb358c499d4d6e4647010a43294463d091c45...</td>\n",
              "      <td>target</td>\n",
              "    </tr>\n",
              "    <tr>\n",
              "      <th>2</th>\n",
              "      <td>c4d0992f315f48e2e145afacf302513699147ba43a187e...</td>\n",
              "      <td>56973dab976fe8b32cdeaa0795af4eddba963a5c992535...</td>\n",
              "      <td>50.2</td>\n",
              "      <td>a9ef451e17cb419dce70451a1c9b733d5809a5aa196853...</td>\n",
              "      <td>control</td>\n",
              "    </tr>\n",
              "    <tr>\n",
              "      <th>3</th>\n",
              "      <td>992f50eaded5ffcf1ed2ad615b11bef0f226edac4b3430...</td>\n",
              "      <td>5aeb6d21ff3e8f1c04e437d3cf677bf56a9ae899c381ba...</td>\n",
              "      <td>21.0</td>\n",
              "      <td>2f9f3fd5434960270578ca3ea5360ef8eadd4454f67a5d...</td>\n",
              "      <td>control</td>\n",
              "    </tr>\n",
              "    <tr>\n",
              "      <th>4</th>\n",
              "      <td>a6d507960380b270f9f19876dd53bd0d23eb5dd8410511...</td>\n",
              "      <td>e80f08f1829cdbf06e2d24cf9880b41ee53f602dff8486...</td>\n",
              "      <td>21.0</td>\n",
              "      <td>3e6131f15538a060e898ec02926240ccee9619fd21710d...</td>\n",
              "      <td>target</td>\n",
              "    </tr>\n",
              "  </tbody>\n",
              "</table>\n",
              "</div>\n",
              "    <div class=\"colab-df-buttons\">\n",
              "\n",
              "  <div class=\"colab-df-container\">\n",
              "    <button class=\"colab-df-convert\" onclick=\"convertToInteractive('df-5482959b-73c2-4245-9ae7-3d4c738ceff8')\"\n",
              "            title=\"Convert this dataframe to an interactive table.\"\n",
              "            style=\"display:none;\">\n",
              "\n",
              "  <svg xmlns=\"http://www.w3.org/2000/svg\" height=\"24px\" viewBox=\"0 -960 960 960\">\n",
              "    <path d=\"M120-120v-720h720v720H120Zm60-500h600v-160H180v160Zm220 220h160v-160H400v160Zm0 220h160v-160H400v160ZM180-400h160v-160H180v160Zm440 0h160v-160H620v160ZM180-180h160v-160H180v160Zm440 0h160v-160H620v160Z\"/>\n",
              "  </svg>\n",
              "    </button>\n",
              "\n",
              "  <style>\n",
              "    .colab-df-container {\n",
              "      display:flex;\n",
              "      gap: 12px;\n",
              "    }\n",
              "\n",
              "    .colab-df-convert {\n",
              "      background-color: #E8F0FE;\n",
              "      border: none;\n",
              "      border-radius: 50%;\n",
              "      cursor: pointer;\n",
              "      display: none;\n",
              "      fill: #1967D2;\n",
              "      height: 32px;\n",
              "      padding: 0 0 0 0;\n",
              "      width: 32px;\n",
              "    }\n",
              "\n",
              "    .colab-df-convert:hover {\n",
              "      background-color: #E2EBFA;\n",
              "      box-shadow: 0px 1px 2px rgba(60, 64, 67, 0.3), 0px 1px 3px 1px rgba(60, 64, 67, 0.15);\n",
              "      fill: #174EA6;\n",
              "    }\n",
              "\n",
              "    .colab-df-buttons div {\n",
              "      margin-bottom: 4px;\n",
              "    }\n",
              "\n",
              "    [theme=dark] .colab-df-convert {\n",
              "      background-color: #3B4455;\n",
              "      fill: #D2E3FC;\n",
              "    }\n",
              "\n",
              "    [theme=dark] .colab-df-convert:hover {\n",
              "      background-color: #434B5C;\n",
              "      box-shadow: 0px 1px 3px 1px rgba(0, 0, 0, 0.15);\n",
              "      filter: drop-shadow(0px 1px 2px rgba(0, 0, 0, 0.3));\n",
              "      fill: #FFFFFF;\n",
              "    }\n",
              "  </style>\n",
              "\n",
              "    <script>\n",
              "      const buttonEl =\n",
              "        document.querySelector('#df-5482959b-73c2-4245-9ae7-3d4c738ceff8 button.colab-df-convert');\n",
              "      buttonEl.style.display =\n",
              "        google.colab.kernel.accessAllowed ? 'block' : 'none';\n",
              "\n",
              "      async function convertToInteractive(key) {\n",
              "        const element = document.querySelector('#df-5482959b-73c2-4245-9ae7-3d4c738ceff8');\n",
              "        const dataTable =\n",
              "          await google.colab.kernel.invokeFunction('convertToInteractive',\n",
              "                                                    [key], {});\n",
              "        if (!dataTable) return;\n",
              "\n",
              "        const docLinkHtml = 'Like what you see? Visit the ' +\n",
              "          '<a target=\"_blank\" href=https://colab.research.google.com/notebooks/data_table.ipynb>data table notebook</a>'\n",
              "          + ' to learn more about interactive tables.';\n",
              "        element.innerHTML = '';\n",
              "        dataTable['output_type'] = 'display_data';\n",
              "        await google.colab.output.renderOutput(dataTable, element);\n",
              "        const docLink = document.createElement('div');\n",
              "        docLink.innerHTML = docLinkHtml;\n",
              "        element.appendChild(docLink);\n",
              "      }\n",
              "    </script>\n",
              "  </div>\n",
              "\n",
              "\n",
              "    <div id=\"df-df32a330-f40e-4355-9231-6a9dc70d2a49\">\n",
              "      <button class=\"colab-df-quickchart\" onclick=\"quickchart('df-df32a330-f40e-4355-9231-6a9dc70d2a49')\"\n",
              "                title=\"Suggest charts\"\n",
              "                style=\"display:none;\">\n",
              "\n",
              "<svg xmlns=\"http://www.w3.org/2000/svg\" height=\"24px\"viewBox=\"0 0 24 24\"\n",
              "     width=\"24px\">\n",
              "    <g>\n",
              "        <path d=\"M19 3H5c-1.1 0-2 .9-2 2v14c0 1.1.9 2 2 2h14c1.1 0 2-.9 2-2V5c0-1.1-.9-2-2-2zM9 17H7v-7h2v7zm4 0h-2V7h2v10zm4 0h-2v-4h2v4z\"/>\n",
              "    </g>\n",
              "</svg>\n",
              "      </button>\n",
              "\n",
              "<style>\n",
              "  .colab-df-quickchart {\n",
              "      --bg-color: #E8F0FE;\n",
              "      --fill-color: #1967D2;\n",
              "      --hover-bg-color: #E2EBFA;\n",
              "      --hover-fill-color: #174EA6;\n",
              "      --disabled-fill-color: #AAA;\n",
              "      --disabled-bg-color: #DDD;\n",
              "  }\n",
              "\n",
              "  [theme=dark] .colab-df-quickchart {\n",
              "      --bg-color: #3B4455;\n",
              "      --fill-color: #D2E3FC;\n",
              "      --hover-bg-color: #434B5C;\n",
              "      --hover-fill-color: #FFFFFF;\n",
              "      --disabled-bg-color: #3B4455;\n",
              "      --disabled-fill-color: #666;\n",
              "  }\n",
              "\n",
              "  .colab-df-quickchart {\n",
              "    background-color: var(--bg-color);\n",
              "    border: none;\n",
              "    border-radius: 50%;\n",
              "    cursor: pointer;\n",
              "    display: none;\n",
              "    fill: var(--fill-color);\n",
              "    height: 32px;\n",
              "    padding: 0;\n",
              "    width: 32px;\n",
              "  }\n",
              "\n",
              "  .colab-df-quickchart:hover {\n",
              "    background-color: var(--hover-bg-color);\n",
              "    box-shadow: 0 1px 2px rgba(60, 64, 67, 0.3), 0 1px 3px 1px rgba(60, 64, 67, 0.15);\n",
              "    fill: var(--button-hover-fill-color);\n",
              "  }\n",
              "\n",
              "  .colab-df-quickchart-complete:disabled,\n",
              "  .colab-df-quickchart-complete:disabled:hover {\n",
              "    background-color: var(--disabled-bg-color);\n",
              "    fill: var(--disabled-fill-color);\n",
              "    box-shadow: none;\n",
              "  }\n",
              "\n",
              "  .colab-df-spinner {\n",
              "    border: 2px solid var(--fill-color);\n",
              "    border-color: transparent;\n",
              "    border-bottom-color: var(--fill-color);\n",
              "    animation:\n",
              "      spin 1s steps(1) infinite;\n",
              "  }\n",
              "\n",
              "  @keyframes spin {\n",
              "    0% {\n",
              "      border-color: transparent;\n",
              "      border-bottom-color: var(--fill-color);\n",
              "      border-left-color: var(--fill-color);\n",
              "    }\n",
              "    20% {\n",
              "      border-color: transparent;\n",
              "      border-left-color: var(--fill-color);\n",
              "      border-top-color: var(--fill-color);\n",
              "    }\n",
              "    30% {\n",
              "      border-color: transparent;\n",
              "      border-left-color: var(--fill-color);\n",
              "      border-top-color: var(--fill-color);\n",
              "      border-right-color: var(--fill-color);\n",
              "    }\n",
              "    40% {\n",
              "      border-color: transparent;\n",
              "      border-right-color: var(--fill-color);\n",
              "      border-top-color: var(--fill-color);\n",
              "    }\n",
              "    60% {\n",
              "      border-color: transparent;\n",
              "      border-right-color: var(--fill-color);\n",
              "    }\n",
              "    80% {\n",
              "      border-color: transparent;\n",
              "      border-right-color: var(--fill-color);\n",
              "      border-bottom-color: var(--fill-color);\n",
              "    }\n",
              "    90% {\n",
              "      border-color: transparent;\n",
              "      border-bottom-color: var(--fill-color);\n",
              "    }\n",
              "  }\n",
              "</style>\n",
              "\n",
              "      <script>\n",
              "        async function quickchart(key) {\n",
              "          const quickchartButtonEl =\n",
              "            document.querySelector('#' + key + ' button');\n",
              "          quickchartButtonEl.disabled = true;  // To prevent multiple clicks.\n",
              "          quickchartButtonEl.classList.add('colab-df-spinner');\n",
              "          try {\n",
              "            const charts = await google.colab.kernel.invokeFunction(\n",
              "                'suggestCharts', [key], {});\n",
              "          } catch (error) {\n",
              "            console.error('Error during call to suggestCharts:', error);\n",
              "          }\n",
              "          quickchartButtonEl.classList.remove('colab-df-spinner');\n",
              "          quickchartButtonEl.classList.add('colab-df-quickchart-complete');\n",
              "        }\n",
              "        (() => {\n",
              "          let quickchartButtonEl =\n",
              "            document.querySelector('#df-df32a330-f40e-4355-9231-6a9dc70d2a49 button');\n",
              "          quickchartButtonEl.style.display =\n",
              "            google.colab.kernel.accessAllowed ? 'block' : 'none';\n",
              "        })();\n",
              "      </script>\n",
              "    </div>\n",
              "\n",
              "    </div>\n",
              "  </div>\n"
            ],
            "application/vnd.google.colaboratory.intrinsic+json": {
              "type": "dataframe",
              "variable_name": "df_pedidos_ab_teste"
            }
          },
          "metadata": {},
          "execution_count": 4
        }
      ]
    },
    {
      "cell_type": "markdown",
      "source": [
        "## Avaliando os outliers"
      ],
      "metadata": {
        "id": "Rdz6Huf6b2_S"
      }
    },
    {
      "cell_type": "markdown",
      "source": [
        "Problemas:\n",
        "* Valor minimo igual a 0. Deverá ser expurgado\n",
        "* Desvio padrão muito distante da média, alta dispersão\n",
        "* Valor máximo altissimo. Deverá ser expurgado"
      ],
      "metadata": {
        "id": "3DcaMv2iTSpn"
      }
    },
    {
      "cell_type": "code",
      "source": [
        "print(df_pedidos_ab_teste['order_total_amount'].describe(percentiles=[0.25, 0.5, 0.75, 0.95, 0.99]).to_string(float_format='{:.2f}'.format))"
      ],
      "metadata": {
        "colab": {
          "base_uri": "https://localhost:8080/"
        },
        "id": "pWAF5gjVcQV1",
        "outputId": "743a65b2-e6a8-43db-e284-31ae34e5ec15"
      },
      "execution_count": 56,
      "outputs": [
        {
          "output_type": "stream",
          "name": "stdout",
          "text": [
            "count   3670826.00\n",
            "mean         47.90\n",
            "std         119.67\n",
            "min           0.00\n",
            "25%          26.90\n",
            "50%          39.90\n",
            "75%          57.40\n",
            "95%         108.20\n",
            "99%         176.80\n",
            "max      138750.90\n"
          ]
        }
      ]
    },
    {
      "cell_type": "markdown",
      "source": [
        "Vamos expurgar 1% da base de ambos os extremos mantendo 98%"
      ],
      "metadata": {
        "id": "A2qUyWx68t1N"
      }
    },
    {
      "cell_type": "code",
      "source": [
        "# Filtro por percentis (exemplo)\n",
        "expurgo_inferior, expurgo_superior = df_pedidos_ab_teste['order_total_amount'].quantile([0.01, 0.99])\n",
        "df_expurgado = df_pedidos_ab_teste[(df_pedidos_ab_teste['order_total_amount'] >= expurgo_inferior) & (df_pedidos_ab_teste['order_total_amount'] <= expurgo_superior)]\n",
        "\n",
        "\n",
        "print(df_expurgado['order_total_amount'].describe(percentiles=[0.25, 0.5, 0.75, 0.95, 0.99]).to_string(float_format='{:.2f}'.format))"
      ],
      "metadata": {
        "colab": {
          "base_uri": "https://localhost:8080/"
        },
        "id": "XT7zK6_uWxDd",
        "outputId": "117a6258-c80a-4451-d029-983a1a445658"
      },
      "execution_count": 64,
      "outputs": [
        {
          "output_type": "stream",
          "name": "stdout",
          "text": [
            "count   3597571.00\n",
            "mean         46.14\n",
            "std          27.26\n",
            "min          10.80\n",
            "25%          27.00\n",
            "50%          39.90\n",
            "75%          56.90\n",
            "95%         102.10\n",
            "99%         145.50\n",
            "max         176.80\n"
          ]
        }
      ]
    },
    {
      "cell_type": "markdown",
      "source": [
        "Com a distribuição expurgada podemos seguir\n",
        "\n"
      ],
      "metadata": {
        "id": "5eEp5NbEcedp"
      }
    },
    {
      "cell_type": "code",
      "source": [
        "plt.figure(figsize=(14, 4))\n",
        "sns.histplot(data=df_expurgado, x='order_total_amount', hue='is_target', bins=50)\n",
        "plt.title('Distribuição dos pedidos')\n",
        "plt.xlabel('Valor do pedido')\n",
        "plt.ylabel('Frequência')\n",
        "plt.legend(labels=['Controle', 'Target'])\n",
        "plt.show()"
      ],
      "metadata": {
        "colab": {
          "base_uri": "https://localhost:8080/",
          "height": 410
        },
        "id": "a3qmGmpGXmBn",
        "outputId": "0544fa4f-d426-409f-cbef-d58621c6bfb2"
      },
      "execution_count": 85,
      "outputs": [
        {
          "output_type": "display_data",
          "data": {
            "text/plain": [
              "<Figure size 1400x400 with 1 Axes>"
            ],
            "image/png": "[encoded data removed]"
          },
          "metadata": {}
        }
      ]
    },
    {
      "cell_type": "markdown",
      "source": [
        "Visualização do boxplot sem os outliers"
      ],
      "metadata": {
        "id": "LMTyxGn081By"
      }
    },
    {
      "cell_type": "markdown",
      "source": [
        "### Indicadores principais"
      ],
      "metadata": {
        "id": "W9Qh-jl_DWZJ"
      }
    },
    {
      "cell_type": "markdown",
      "source": [
        "Retenção - Usuários com 2 ou mais pedidos no periodo"
      ],
      "metadata": {
        "id": "AeHe82oREV3i"
      }
    },
    {
      "cell_type": "code",
      "source": [
        "# 1. Retenção\n",
        "retention = df_expurgado.groupby(['customer_id', 'is_target'])['order_id'].count() > 1\n",
        "df_retidos = retention[retention == True].copy()\n",
        "df_gb_retencao = retention.groupby('is_target').mean()\n",
        "df_gb_retencao"
      ],
      "metadata": {
        "colab": {
          "base_uri": "https://localhost:8080/",
          "height": 178
        },
        "id": "vFFPuCq5Rfor",
        "outputId": "21f757f2-da07-4d9e-901c-a72fa035d444"
      },
      "execution_count": 94,
      "outputs": [
        {
          "output_type": "execute_result",
          "data": {
            "text/plain": [
              "is_target\n",
              "control    0.746321\n",
              "target     0.793332\n",
              "Name: order_id, dtype: float64"
            ],
            "text/html": [
              "<div>\n",
              "<style scoped>\n",
              "    .dataframe tbody tr th:only-of-type {\n",
              "        vertical-align: middle;\n",
              "    }\n",
              "\n",
              "    .dataframe tbody tr th {\n",
              "        vertical-align: top;\n",
              "    }\n",
              "\n",
              "    .dataframe thead th {\n",
              "        text-align: right;\n",
              "    }\n",
              "</style>\n",
              "<table border=\"1\" class=\"dataframe\">\n",
              "  <thead>\n",
              "    <tr style=\"text-align: right;\">\n",
              "      <th></th>\n",
              "      <th>order_id</th>\n",
              "    </tr>\n",
              "    <tr>\n",
              "      <th>is_target</th>\n",
              "      <th></th>\n",
              "    </tr>\n",
              "  </thead>\n",
              "  <tbody>\n",
              "    <tr>\n",
              "      <th>control</th>\n",
              "      <td>0.746321</td>\n",
              "    </tr>\n",
              "    <tr>\n",
              "      <th>target</th>\n",
              "      <td>0.793332</td>\n",
              "    </tr>\n",
              "  </tbody>\n",
              "</table>\n",
              "</div><br><label><b>dtype:</b> float64</label>"
            ]
          },
          "metadata": {},
          "execution_count": 94
        }
      ]
    },
    {
      "cell_type": "markdown",
      "source": [
        "Quantidades de usuários retidos"
      ],
      "metadata": {
        "id": "lHFo_jsTejDP"
      }
    },
    {
      "cell_type": "code",
      "source": [
        "df_qtd_retidos = df_retidos.groupby('is_target').count()\n",
        "df_qtd_retidos"
      ],
      "metadata": {
        "colab": {
          "base_uri": "https://localhost:8080/",
          "height": 178
        },
        "id": "BxdPZDq4I1PY",
        "outputId": "692d3c08-22e1-4eb5-c1f2-71cb15122336"
      },
      "execution_count": 105,
      "outputs": [
        {
          "output_type": "execute_result",
          "data": {
            "text/plain": [
              "is_target\n",
              "control    266068\n",
              "target     350372\n",
              "Name: order_id, dtype: int64"
            ],
            "text/html": [
              "<div>\n",
              "<style scoped>\n",
              "    .dataframe tbody tr th:only-of-type {\n",
              "        vertical-align: middle;\n",
              "    }\n",
              "\n",
              "    .dataframe tbody tr th {\n",
              "        vertical-align: top;\n",
              "    }\n",
              "\n",
              "    .dataframe thead th {\n",
              "        text-align: right;\n",
              "    }\n",
              "</style>\n",
              "<table border=\"1\" class=\"dataframe\">\n",
              "  <thead>\n",
              "    <tr style=\"text-align: right;\">\n",
              "      <th></th>\n",
              "      <th>order_id</th>\n",
              "    </tr>\n",
              "    <tr>\n",
              "      <th>is_target</th>\n",
              "      <th></th>\n",
              "    </tr>\n",
              "  </thead>\n",
              "  <tbody>\n",
              "    <tr>\n",
              "      <th>control</th>\n",
              "      <td>266068</td>\n",
              "    </tr>\n",
              "    <tr>\n",
              "      <th>target</th>\n",
              "      <td>350372</td>\n",
              "    </tr>\n",
              "  </tbody>\n",
              "</table>\n",
              "</div><br><label><b>dtype:</b> int64</label>"
            ]
          },
          "metadata": {},
          "execution_count": 105
        }
      ]
    },
    {
      "cell_type": "markdown",
      "source": [
        "Ticket médio dos pedidos por grupo"
      ],
      "metadata": {
        "id": "qN0wsH2oEl9b"
      }
    },
    {
      "cell_type": "code",
      "source": [
        "df_ticket_medio = df_expurgado.groupby('is_target')['order_total_amount'].mean()\n",
        "df_ticket_medio"
      ],
      "metadata": {
        "colab": {
          "base_uri": "https://localhost:8080/",
          "height": 178
        },
        "id": "oY11kY_jD97o",
        "outputId": "e8204a5b-19ca-4eda-bab6-e5cb6e332ef1"
      },
      "execution_count": 104,
      "outputs": [
        {
          "output_type": "execute_result",
          "data": {
            "text/plain": [
              "is_target\n",
              "control    46.132803\n",
              "target     46.152132\n",
              "Name: order_total_amount, dtype: float64"
            ],
            "text/html": [
              "<div>\n",
              "<style scoped>\n",
              "    .dataframe tbody tr th:only-of-type {\n",
              "        vertical-align: middle;\n",
              "    }\n",
              "\n",
              "    .dataframe tbody tr th {\n",
              "        vertical-align: top;\n",
              "    }\n",
              "\n",
              "    .dataframe thead th {\n",
              "        text-align: right;\n",
              "    }\n",
              "</style>\n",
              "<table border=\"1\" class=\"dataframe\">\n",
              "  <thead>\n",
              "    <tr style=\"text-align: right;\">\n",
              "      <th></th>\n",
              "      <th>order_total_amount</th>\n",
              "    </tr>\n",
              "    <tr>\n",
              "      <th>is_target</th>\n",
              "      <th></th>\n",
              "    </tr>\n",
              "  </thead>\n",
              "  <tbody>\n",
              "    <tr>\n",
              "      <th>control</th>\n",
              "      <td>46.132803</td>\n",
              "    </tr>\n",
              "    <tr>\n",
              "      <th>target</th>\n",
              "      <td>46.152132</td>\n",
              "    </tr>\n",
              "  </tbody>\n",
              "</table>\n",
              "</div><br><label><b>dtype:</b> float64</label>"
            ]
          },
          "metadata": {},
          "execution_count": 104
        }
      ]
    },
    {
      "cell_type": "markdown",
      "source": [
        "Frequência dos pedidos dos grupos"
      ],
      "metadata": {
        "id": "iN72HQxoIkNo"
      }
    },
    {
      "cell_type": "code",
      "source": [
        "df_frequencia_pedidos = df_expurgado.groupby(['is_target', 'customer_id'])['order_id'].count().groupby('is_target').mean()\n",
        "df_frequencia_pedidos"
      ],
      "metadata": {
        "colab": {
          "base_uri": "https://localhost:8080/",
          "height": 178
        },
        "id": "WR5tVjVHFA6n",
        "outputId": "53d3822e-b0d7-4506-e483-fa9180a93e00"
      },
      "execution_count": 106,
      "outputs": [
        {
          "output_type": "execute_result",
          "data": {
            "text/plain": [
              "is_target\n",
              "control    4.195424\n",
              "target     4.741476\n",
              "Name: order_id, dtype: float64"
            ],
            "text/html": [
              "<div>\n",
              "<style scoped>\n",
              "    .dataframe tbody tr th:only-of-type {\n",
              "        vertical-align: middle;\n",
              "    }\n",
              "\n",
              "    .dataframe tbody tr th {\n",
              "        vertical-align: top;\n",
              "    }\n",
              "\n",
              "    .dataframe thead th {\n",
              "        text-align: right;\n",
              "    }\n",
              "</style>\n",
              "<table border=\"1\" class=\"dataframe\">\n",
              "  <thead>\n",
              "    <tr style=\"text-align: right;\">\n",
              "      <th></th>\n",
              "      <th>order_id</th>\n",
              "    </tr>\n",
              "    <tr>\n",
              "      <th>is_target</th>\n",
              "      <th></th>\n",
              "    </tr>\n",
              "  </thead>\n",
              "  <tbody>\n",
              "    <tr>\n",
              "      <th>control</th>\n",
              "      <td>4.195424</td>\n",
              "    </tr>\n",
              "    <tr>\n",
              "      <th>target</th>\n",
              "      <td>4.741476</td>\n",
              "    </tr>\n",
              "  </tbody>\n",
              "</table>\n",
              "</div><br><label><b>dtype:</b> float64</label>"
            ]
          },
          "metadata": {},
          "execution_count": 106
        }
      ]
    },
    {
      "cell_type": "code",
      "source": [
        "df_teste_hipotese = df_expurgado[['is_target','order_total_amount']].copy()"
      ],
      "metadata": {
        "id": "XuPgulfQUJso"
      },
      "execution_count": 108,
      "outputs": []
    },
    {
      "cell_type": "code",
      "source": [
        "# Extrai os valores como arrays NumPy (já aplicando dropna())\n",
        "gp_target = df_teste_hipotese.loc[df_teste_hipotese['is_target'] == 'target','order_total_amount'].dropna().to_numpy(dtype='float32')\n",
        "\n",
        "gp_controle = df_teste_hipotese.loc[df_teste_hipotese['is_target'] == 'control','order_total_amount'].dropna().to_numpy(dtype='float32')\n"
      ],
      "metadata": {
        "id": "WUbj-aTWMPMV"
      },
      "execution_count": 109,
      "outputs": []
    },
    {
      "cell_type": "code",
      "source": [
        "# Teste de hipotese entre os grupos\n",
        "t_stat, p_value = ttest_ind(gp_target, gp_controle, method=None)\n",
        "\n",
        "print(f\"\"\"\n",
        "📊 Resultado do Teste T:\n",
        "- Estatística T = {t_stat:.4f}\n",
        "- P-value = {p_value:.10f}  # Notação científica se necessário\n",
        "\"\"\")"
      ],
      "metadata": {
        "colab": {
          "base_uri": "https://localhost:8080/"
        },
        "id": "OnFdmNtANIj-",
        "outputId": "fef13d1f-59ae-47c2-ad07-f50f90c15e08"
      },
      "execution_count": 110,
      "outputs": [
        {
          "output_type": "stream",
          "name": "stdout",
          "text": [
            "\n",
            "📊 Resultado do Teste T:\n",
            "- Estatística T = 0.6629\n",
            "- P-value = 0.5074190879  # Notação científica se necessário\n",
            "\n"
          ]
        }
      ]
    }
  ]
}