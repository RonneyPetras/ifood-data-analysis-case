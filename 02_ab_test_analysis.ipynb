{
  "nbformat": 4,
  "nbformat_minor": 0,
  "metadata": {
    "colab": {
      "provenance": [],
      "mount_file_id": "1vzY90B0u1J9Ozq_WRDft4VGKRpVVqA9H",
      "authorship_tag": "ABX9TyOu7GORsbiddUIKp5blq5Wk",
      "include_colab_link": true
    },
    "kernelspec": {
      "name": "python3",
      "display_name": "Python 3"
    },
    "language_info": {
      "name": "python"
    }
  },
  "cells": [
    {
      "cell_type": "markdown",
      "metadata": {
        "id": "view-in-github",
        "colab_type": "text"
      },
      "source": [
        "<a href=\"https://colab.research.google.com/github/RonneyPetras/ifood-data-analysis-case/blob/main/02_ab_test_analysis.ipynb\" target=\"_parent\"><img src=\"https://colab.research.google.com/assets/colab-badge.svg\" alt=\"Open In Colab\"/></a>"
      ]
    },
    {
      "cell_type": "markdown",
      "source": [
        "# Analise do teste A/B Ifood - Questão 1"
      ],
      "metadata": {
        "id": "QRkMOcpVRmYh"
      }
    },
    {
      "cell_type": "markdown",
      "source": [
        "## Importando blibliotecas"
      ],
      "metadata": {
        "id": "rU_QKbKwRoT7"
      }
    },
    {
      "cell_type": "code",
      "source": [
        "import pandas as pd\n",
        "import os\n",
        "from google.colab import drive\n",
        "import matplotlib.pyplot as plt\n",
        "import seaborn as sns\n",
        "from scipy.stats import ttest_ind, chi2_contingency\n",
        "import numpy as np"
      ],
      "metadata": {
        "id": "pM7vi18ERuO8"
      },
      "execution_count": 2,
      "outputs": []
    },
    {
      "cell_type": "markdown",
      "source": [
        "### Montando o Gdrive, altere o caminho se necessário"
      ],
      "metadata": {
        "id": "ZwabOHHaWs27"
      }
    },
    {
      "cell_type": "code",
      "source": [
        "caminho_gdrive = \"/content/drive/MyDrive/ifood_case/ifood-data\" # @param {\"type\":\"string\"}"
      ],
      "metadata": {
        "id": "4VVDCaWsWqxa"
      },
      "execution_count": 3,
      "outputs": []
    },
    {
      "cell_type": "code",
      "source": [
        "drive.mount('/content/drive')\n",
        "\n",
        "# Define caminho (substitua SEU_DIRETORIO pelo nome da pasta que você quer usar)\n",
        "os.makedirs(caminho_gdrive, exist_ok=True)"
      ],
      "metadata": {
        "colab": {
          "base_uri": "https://localhost:8080/"
        },
        "id": "dGRSCyscZK2M",
        "outputId": "5bf9d8ea-8571-4e18-8463-7ff63d8f86c7"
      },
      "execution_count": 4,
      "outputs": [
        {
          "output_type": "stream",
          "name": "stdout",
          "text": [
            "Drive already mounted at /content/drive; to attempt to forcibly remount, call drive.mount(\"/content/drive\", force_remount=True).\n"
          ]
        }
      ]
    },
    {
      "cell_type": "markdown",
      "source": [
        "## Análises Iniciais"
      ],
      "metadata": {
        "id": "sctsvtIJSAi5"
      }
    },
    {
      "cell_type": "code",
      "source": [
        "df_pedidos_ab_teste = pd.read_parquet(caminho_gdrive + \"/pedidos_teste_ab.parquet\")\n",
        "df_pedidos_ab_teste.head()"
      ],
      "metadata": {
        "colab": {
          "base_uri": "https://localhost:8080/",
          "height": 226
        },
        "id": "5Au_fmO6R__e",
        "outputId": "b9fc5245-ca69-4b2f-e31c-a24ff121f5ef"
      },
      "execution_count": 5,
      "outputs": [
        {
          "output_type": "execute_result",
          "data": {
            "text/plain": [
              "                                            order_id  \\\n",
              "0  ec00f7aec2f1b32bdaf6b359a91b60a1f58ce2cb452fed...   \n",
              "1  ee5ba707b0938b565107d0c86b8b4325d4941d06fc73ce...   \n",
              "2  c4d0992f315f48e2e145afacf302513699147ba43a187e...   \n",
              "3  992f50eaded5ffcf1ed2ad615b11bef0f226edac4b3430...   \n",
              "4  a6d507960380b270f9f19876dd53bd0d23eb5dd8410511...   \n",
              "\n",
              "                                         customer_id  order_total_amount  \\\n",
              "0  665c8547a9ea092ba84342bfc55103f1e8a5068f0a26a7...                32.8   \n",
              "1  5e35cb26472772592674730e8907e9e22428354fbd19e6...                38.1   \n",
              "2  56973dab976fe8b32cdeaa0795af4eddba963a5c992535...                50.2   \n",
              "3  5aeb6d21ff3e8f1c04e437d3cf677bf56a9ae899c381ba...                21.0   \n",
              "4  e80f08f1829cdbf06e2d24cf9880b41ee53f602dff8486...                21.0   \n",
              "\n",
              "                                         merchant_id is_target  \n",
              "0  c2b068129a510b4c4ed10ff16081428d077f6d3be44785...    target  \n",
              "1  355021c61bb358c499d4d6e4647010a43294463d091c45...    target  \n",
              "2  a9ef451e17cb419dce70451a1c9b733d5809a5aa196853...   control  \n",
              "3  2f9f3fd5434960270578ca3ea5360ef8eadd4454f67a5d...   control  \n",
              "4  3e6131f15538a060e898ec02926240ccee9619fd21710d...    target  "
            ],
            "text/html": [
              "\n",
              "  <div id=\"df-eebf1a0e-a528-4e48-8aa8-5161806d4a15\" class=\"colab-df-container\">\n",
              "    <div>\n",
              "<style scoped>\n",
              "    .dataframe tbody tr th:only-of-type {\n",
              "        vertical-align: middle;\n",
              "    }\n",
              "\n",
              "    .dataframe tbody tr th {\n",
              "        vertical-align: top;\n",
              "    }\n",
              "\n",
              "    .dataframe thead th {\n",
              "        text-align: right;\n",
              "    }\n",
              "</style>\n",
              "<table border=\"1\" class=\"dataframe\">\n",
              "  <thead>\n",
              "    <tr style=\"text-align: right;\">\n",
              "      <th></th>\n",
              "      <th>order_id</th>\n",
              "      <th>customer_id</th>\n",
              "      <th>order_total_amount</th>\n",
              "      <th>merchant_id</th>\n",
              "      <th>is_target</th>\n",
              "    </tr>\n",
              "  </thead>\n",
              "  <tbody>\n",
              "    <tr>\n",
              "      <th>0</th>\n",
              "      <td>ec00f7aec2f1b32bdaf6b359a91b60a1f58ce2cb452fed...</td>\n",
              "      <td>665c8547a9ea092ba84342bfc55103f1e8a5068f0a26a7...</td>\n",
              "      <td>32.8</td>\n",
              "      <td>c2b068129a510b4c4ed10ff16081428d077f6d3be44785...</td>\n",
              "      <td>target</td>\n",
              "    </tr>\n",
              "    <tr>\n",
              "      <th>1</th>\n",
              "      <td>ee5ba707b0938b565107d0c86b8b4325d4941d06fc73ce...</td>\n",
              "      <td>5e35cb26472772592674730e8907e9e22428354fbd19e6...</td>\n",
              "      <td>38.1</td>\n",
              "      <td>355021c61bb358c499d4d6e4647010a43294463d091c45...</td>\n",
              "      <td>target</td>\n",
              "    </tr>\n",
              "    <tr>\n",
              "      <th>2</th>\n",
              "      <td>c4d0992f315f48e2e145afacf302513699147ba43a187e...</td>\n",
              "      <td>56973dab976fe8b32cdeaa0795af4eddba963a5c992535...</td>\n",
              "      <td>50.2</td>\n",
              "      <td>a9ef451e17cb419dce70451a1c9b733d5809a5aa196853...</td>\n",
              "      <td>control</td>\n",
              "    </tr>\n",
              "    <tr>\n",
              "      <th>3</th>\n",
              "      <td>992f50eaded5ffcf1ed2ad615b11bef0f226edac4b3430...</td>\n",
              "      <td>5aeb6d21ff3e8f1c04e437d3cf677bf56a9ae899c381ba...</td>\n",
              "      <td>21.0</td>\n",
              "      <td>2f9f3fd5434960270578ca3ea5360ef8eadd4454f67a5d...</td>\n",
              "      <td>control</td>\n",
              "    </tr>\n",
              "    <tr>\n",
              "      <th>4</th>\n",
              "      <td>a6d507960380b270f9f19876dd53bd0d23eb5dd8410511...</td>\n",
              "      <td>e80f08f1829cdbf06e2d24cf9880b41ee53f602dff8486...</td>\n",
              "      <td>21.0</td>\n",
              "      <td>3e6131f15538a060e898ec02926240ccee9619fd21710d...</td>\n",
              "      <td>target</td>\n",
              "    </tr>\n",
              "  </tbody>\n",
              "</table>\n",
              "</div>\n",
              "    <div class=\"colab-df-buttons\">\n",
              "\n",
              "  <div class=\"colab-df-container\">\n",
              "    <button class=\"colab-df-convert\" onclick=\"convertToInteractive('df-eebf1a0e-a528-4e48-8aa8-5161806d4a15')\"\n",
              "            title=\"Convert this dataframe to an interactive table.\"\n",
              "            style=\"display:none;\">\n",
              "\n",
              "  <svg xmlns=\"http://www.w3.org/2000/svg\" height=\"24px\" viewBox=\"0 -960 960 960\">\n",
              "    <path d=\"M120-120v-720h720v720H120Zm60-500h600v-160H180v160Zm220 220h160v-160H400v160Zm0 220h160v-160H400v160ZM180-400h160v-160H180v160Zm440 0h160v-160H620v160ZM180-180h160v-160H180v160Zm440 0h160v-160H620v160Z\"/>\n",
              "  </svg>\n",
              "    </button>\n",
              "\n",
              "  <style>\n",
              "    .colab-df-container {\n",
              "      display:flex;\n",
              "      gap: 12px;\n",
              "    }\n",
              "\n",
              "    .colab-df-convert {\n",
              "      background-color: #E8F0FE;\n",
              "      border: none;\n",
              "      border-radius: 50%;\n",
              "      cursor: pointer;\n",
              "      display: none;\n",
              "      fill: #1967D2;\n",
              "      height: 32px;\n",
              "      padding: 0 0 0 0;\n",
              "      width: 32px;\n",
              "    }\n",
              "\n",
              "    .colab-df-convert:hover {\n",
              "      background-color: #E2EBFA;\n",
              "      box-shadow: 0px 1px 2px rgba(60, 64, 67, 0.3), 0px 1px 3px 1px rgba(60, 64, 67, 0.15);\n",
              "      fill: #174EA6;\n",
              "    }\n",
              "\n",
              "    .colab-df-buttons div {\n",
              "      margin-bottom: 4px;\n",
              "    }\n",
              "\n",
              "    [theme=dark] .colab-df-convert {\n",
              "      background-color: #3B4455;\n",
              "      fill: #D2E3FC;\n",
              "    }\n",
              "\n",
              "    [theme=dark] .colab-df-convert:hover {\n",
              "      background-color: #434B5C;\n",
              "      box-shadow: 0px 1px 3px 1px rgba(0, 0, 0, 0.15);\n",
              "      filter: drop-shadow(0px 1px 2px rgba(0, 0, 0, 0.3));\n",
              "      fill: #FFFFFF;\n",
              "    }\n",
              "  </style>\n",
              "\n",
              "    <script>\n",
              "      const buttonEl =\n",
              "        document.querySelector('#df-eebf1a0e-a528-4e48-8aa8-5161806d4a15 button.colab-df-convert');\n",
              "      buttonEl.style.display =\n",
              "        google.colab.kernel.accessAllowed ? 'block' : 'none';\n",
              "\n",
              "      async function convertToInteractive(key) {\n",
              "        const element = document.querySelector('#df-eebf1a0e-a528-4e48-8aa8-5161806d4a15');\n",
              "        const dataTable =\n",
              "          await google.colab.kernel.invokeFunction('convertToInteractive',\n",
              "                                                    [key], {});\n",
              "        if (!dataTable) return;\n",
              "\n",
              "        const docLinkHtml = 'Like what you see? Visit the ' +\n",
              "          '<a target=\"_blank\" href=https://colab.research.google.com/notebooks/data_table.ipynb>data table notebook</a>'\n",
              "          + ' to learn more about interactive tables.';\n",
              "        element.innerHTML = '';\n",
              "        dataTable['output_type'] = 'display_data';\n",
              "        await google.colab.output.renderOutput(dataTable, element);\n",
              "        const docLink = document.createElement('div');\n",
              "        docLink.innerHTML = docLinkHtml;\n",
              "        element.appendChild(docLink);\n",
              "      }\n",
              "    </script>\n",
              "  </div>\n",
              "\n",
              "\n",
              "    <div id=\"df-d1f01bee-7c3e-4176-af1a-5ff24de13a59\">\n",
              "      <button class=\"colab-df-quickchart\" onclick=\"quickchart('df-d1f01bee-7c3e-4176-af1a-5ff24de13a59')\"\n",
              "                title=\"Suggest charts\"\n",
              "                style=\"display:none;\">\n",
              "\n",
              "<svg xmlns=\"http://www.w3.org/2000/svg\" height=\"24px\"viewBox=\"0 0 24 24\"\n",
              "     width=\"24px\">\n",
              "    <g>\n",
              "        <path d=\"M19 3H5c-1.1 0-2 .9-2 2v14c0 1.1.9 2 2 2h14c1.1 0 2-.9 2-2V5c0-1.1-.9-2-2-2zM9 17H7v-7h2v7zm4 0h-2V7h2v10zm4 0h-2v-4h2v4z\"/>\n",
              "    </g>\n",
              "</svg>\n",
              "      </button>\n",
              "\n",
              "<style>\n",
              "  .colab-df-quickchart {\n",
              "      --bg-color: #E8F0FE;\n",
              "      --fill-color: #1967D2;\n",
              "      --hover-bg-color: #E2EBFA;\n",
              "      --hover-fill-color: #174EA6;\n",
              "      --disabled-fill-color: #AAA;\n",
              "      --disabled-bg-color: #DDD;\n",
              "  }\n",
              "\n",
              "  [theme=dark] .colab-df-quickchart {\n",
              "      --bg-color: #3B4455;\n",
              "      --fill-color: #D2E3FC;\n",
              "      --hover-bg-color: #434B5C;\n",
              "      --hover-fill-color: #FFFFFF;\n",
              "      --disabled-bg-color: #3B4455;\n",
              "      --disabled-fill-color: #666;\n",
              "  }\n",
              "\n",
              "  .colab-df-quickchart {\n",
              "    background-color: var(--bg-color);\n",
              "    border: none;\n",
              "    border-radius: 50%;\n",
              "    cursor: pointer;\n",
              "    display: none;\n",
              "    fill: var(--fill-color);\n",
              "    height: 32px;\n",
              "    padding: 0;\n",
              "    width: 32px;\n",
              "  }\n",
              "\n",
              "  .colab-df-quickchart:hover {\n",
              "    background-color: var(--hover-bg-color);\n",
              "    box-shadow: 0 1px 2px rgba(60, 64, 67, 0.3), 0 1px 3px 1px rgba(60, 64, 67, 0.15);\n",
              "    fill: var(--button-hover-fill-color);\n",
              "  }\n",
              "\n",
              "  .colab-df-quickchart-complete:disabled,\n",
              "  .colab-df-quickchart-complete:disabled:hover {\n",
              "    background-color: var(--disabled-bg-color);\n",
              "    fill: var(--disabled-fill-color);\n",
              "    box-shadow: none;\n",
              "  }\n",
              "\n",
              "  .colab-df-spinner {\n",
              "    border: 2px solid var(--fill-color);\n",
              "    border-color: transparent;\n",
              "    border-bottom-color: var(--fill-color);\n",
              "    animation:\n",
              "      spin 1s steps(1) infinite;\n",
              "  }\n",
              "\n",
              "  @keyframes spin {\n",
              "    0% {\n",
              "      border-color: transparent;\n",
              "      border-bottom-color: var(--fill-color);\n",
              "      border-left-color: var(--fill-color);\n",
              "    }\n",
              "    20% {\n",
              "      border-color: transparent;\n",
              "      border-left-color: var(--fill-color);\n",
              "      border-top-color: var(--fill-color);\n",
              "    }\n",
              "    30% {\n",
              "      border-color: transparent;\n",
              "      border-left-color: var(--fill-color);\n",
              "      border-top-color: var(--fill-color);\n",
              "      border-right-color: var(--fill-color);\n",
              "    }\n",
              "    40% {\n",
              "      border-color: transparent;\n",
              "      border-right-color: var(--fill-color);\n",
              "      border-top-color: var(--fill-color);\n",
              "    }\n",
              "    60% {\n",
              "      border-color: transparent;\n",
              "      border-right-color: var(--fill-color);\n",
              "    }\n",
              "    80% {\n",
              "      border-color: transparent;\n",
              "      border-right-color: var(--fill-color);\n",
              "      border-bottom-color: var(--fill-color);\n",
              "    }\n",
              "    90% {\n",
              "      border-color: transparent;\n",
              "      border-bottom-color: var(--fill-color);\n",
              "    }\n",
              "  }\n",
              "</style>\n",
              "\n",
              "      <script>\n",
              "        async function quickchart(key) {\n",
              "          const quickchartButtonEl =\n",
              "            document.querySelector('#' + key + ' button');\n",
              "          quickchartButtonEl.disabled = true;  // To prevent multiple clicks.\n",
              "          quickchartButtonEl.classList.add('colab-df-spinner');\n",
              "          try {\n",
              "            const charts = await google.colab.kernel.invokeFunction(\n",
              "                'suggestCharts', [key], {});\n",
              "          } catch (error) {\n",
              "            console.error('Error during call to suggestCharts:', error);\n",
              "          }\n",
              "          quickchartButtonEl.classList.remove('colab-df-spinner');\n",
              "          quickchartButtonEl.classList.add('colab-df-quickchart-complete');\n",
              "        }\n",
              "        (() => {\n",
              "          let quickchartButtonEl =\n",
              "            document.querySelector('#df-d1f01bee-7c3e-4176-af1a-5ff24de13a59 button');\n",
              "          quickchartButtonEl.style.display =\n",
              "            google.colab.kernel.accessAllowed ? 'block' : 'none';\n",
              "        })();\n",
              "      </script>\n",
              "    </div>\n",
              "\n",
              "    </div>\n",
              "  </div>\n"
            ],
            "application/vnd.google.colaboratory.intrinsic+json": {
              "type": "dataframe",
              "variable_name": "df_pedidos_ab_teste"
            }
          },
          "metadata": {},
          "execution_count": 5
        }
      ]
    },
    {
      "cell_type": "markdown",
      "source": [
        "Retenção - Usuários com 2 ou mais pedidos no periodo"
      ],
      "metadata": {
        "id": "AeHe82oREV3i"
      }
    },
    {
      "cell_type": "code",
      "source": [
        "# 1. Retenção\n",
        "retention = df_pedidos_ab_teste.groupby(['customer_id', 'is_target'])['order_id'].count() > 1\n",
        "df_gb_retencao = retention.groupby('is_target').mean()\n",
        "df_gb_retencao"
      ],
      "metadata": {
        "colab": {
          "base_uri": "https://localhost:8080/",
          "height": 178
        },
        "id": "vFFPuCq5Rfor",
        "outputId": "68519f2a-b515-4cb7-e552-a249bac2a385"
      },
      "execution_count": 6,
      "outputs": [
        {
          "output_type": "execute_result",
          "data": {
            "text/plain": [
              "is_target\n",
              "control    0.747045\n",
              "target     0.795064\n",
              "Name: order_id, dtype: float64"
            ],
            "text/html": [
              "<div>\n",
              "<style scoped>\n",
              "    .dataframe tbody tr th:only-of-type {\n",
              "        vertical-align: middle;\n",
              "    }\n",
              "\n",
              "    .dataframe tbody tr th {\n",
              "        vertical-align: top;\n",
              "    }\n",
              "\n",
              "    .dataframe thead th {\n",
              "        text-align: right;\n",
              "    }\n",
              "</style>\n",
              "<table border=\"1\" class=\"dataframe\">\n",
              "  <thead>\n",
              "    <tr style=\"text-align: right;\">\n",
              "      <th></th>\n",
              "      <th>order_id</th>\n",
              "    </tr>\n",
              "    <tr>\n",
              "      <th>is_target</th>\n",
              "      <th></th>\n",
              "    </tr>\n",
              "  </thead>\n",
              "  <tbody>\n",
              "    <tr>\n",
              "      <th>control</th>\n",
              "      <td>0.747045</td>\n",
              "    </tr>\n",
              "    <tr>\n",
              "      <th>target</th>\n",
              "      <td>0.795064</td>\n",
              "    </tr>\n",
              "  </tbody>\n",
              "</table>\n",
              "</div><br><label><b>dtype:</b> float64</label>"
            ]
          },
          "metadata": {},
          "execution_count": 6
        }
      ]
    },
    {
      "cell_type": "markdown",
      "source": [
        "Ticket médio dos pedidos por grupo"
      ],
      "metadata": {
        "id": "qN0wsH2oEl9b"
      }
    },
    {
      "cell_type": "code",
      "source": [
        "df_ticket_medio = df_pedidos_ab_teste.groupby('is_target')['order_total_amount'].mean()\n",
        "df_ticket_medio"
      ],
      "metadata": {
        "colab": {
          "base_uri": "https://localhost:8080/",
          "height": 178
        },
        "id": "oY11kY_jD97o",
        "outputId": "aa0bc209-e245-4a4d-9961-5f6937750c29"
      },
      "execution_count": 35,
      "outputs": [
        {
          "output_type": "execute_result",
          "data": {
            "text/plain": [
              "is_target\n",
              "control    47.897891\n",
              "target     47.901594\n",
              "Name: order_total_amount, dtype: float64"
            ],
            "text/html": [
              "<div>\n",
              "<style scoped>\n",
              "    .dataframe tbody tr th:only-of-type {\n",
              "        vertical-align: middle;\n",
              "    }\n",
              "\n",
              "    .dataframe tbody tr th {\n",
              "        vertical-align: top;\n",
              "    }\n",
              "\n",
              "    .dataframe thead th {\n",
              "        text-align: right;\n",
              "    }\n",
              "</style>\n",
              "<table border=\"1\" class=\"dataframe\">\n",
              "  <thead>\n",
              "    <tr style=\"text-align: right;\">\n",
              "      <th></th>\n",
              "      <th>order_total_amount</th>\n",
              "    </tr>\n",
              "    <tr>\n",
              "      <th>is_target</th>\n",
              "      <th></th>\n",
              "    </tr>\n",
              "  </thead>\n",
              "  <tbody>\n",
              "    <tr>\n",
              "      <th>control</th>\n",
              "      <td>47.897891</td>\n",
              "    </tr>\n",
              "    <tr>\n",
              "      <th>target</th>\n",
              "      <td>47.901594</td>\n",
              "    </tr>\n",
              "  </tbody>\n",
              "</table>\n",
              "</div><br><label><b>dtype:</b> float64</label>"
            ]
          },
          "metadata": {},
          "execution_count": 35
        }
      ]
    },
    {
      "cell_type": "code",
      "source": [
        "df_frequencia_pedidos = df_pedidos_ab_teste.groupby(['is_target', 'customer_id'])['order_id'].count().groupby('is_target').mean()\n",
        "df_frequencia_pedidos"
      ],
      "metadata": {
        "colab": {
          "base_uri": "https://localhost:8080/",
          "height": 178
        },
        "id": "WR5tVjVHFA6n",
        "outputId": "c134b3f6-b47e-470a-a396-0e8d81c15dc3"
      },
      "execution_count": 41,
      "outputs": [
        {
          "output_type": "execute_result",
          "data": {
            "text/plain": [
              "is_target\n",
              "control    4.231341\n",
              "target     4.791725\n",
              "Name: order_id, dtype: float64"
            ],
            "text/html": [
              "<div>\n",
              "<style scoped>\n",
              "    .dataframe tbody tr th:only-of-type {\n",
              "        vertical-align: middle;\n",
              "    }\n",
              "\n",
              "    .dataframe tbody tr th {\n",
              "        vertical-align: top;\n",
              "    }\n",
              "\n",
              "    .dataframe thead th {\n",
              "        text-align: right;\n",
              "    }\n",
              "</style>\n",
              "<table border=\"1\" class=\"dataframe\">\n",
              "  <thead>\n",
              "    <tr style=\"text-align: right;\">\n",
              "      <th></th>\n",
              "      <th>order_id</th>\n",
              "    </tr>\n",
              "    <tr>\n",
              "      <th>is_target</th>\n",
              "      <th></th>\n",
              "    </tr>\n",
              "  </thead>\n",
              "  <tbody>\n",
              "    <tr>\n",
              "      <th>control</th>\n",
              "      <td>4.231341</td>\n",
              "    </tr>\n",
              "    <tr>\n",
              "      <th>target</th>\n",
              "      <td>4.791725</td>\n",
              "    </tr>\n",
              "  </tbody>\n",
              "</table>\n",
              "</div><br><label><b>dtype:</b> float64</label>"
            ]
          },
          "metadata": {},
          "execution_count": 41
        }
      ]
    },
    {
      "cell_type": "code",
      "source": [
        "plt.figure(figsize=(5, 4))\n",
        "plt.bar(df_gb_retencao.index, df_gb_retencao.values)\n",
        "plt.title(\"Retenção por grupo\")\n",
        "\n",
        "plt.ylim([0, 0.9])\n",
        "\n",
        "\n",
        "for i, value in enumerate(df_gb_retencao.values):\n",
        "  plt.text(i, value, f'{value:.2%}', ha='center', va='bottom')"
      ],
      "metadata": {
        "colab": {
          "base_uri": "https://localhost:8080/",
          "height": 391
        },
        "id": "0eOYDpNYIGzI",
        "outputId": "e9326c38-b6c5-4388-c7ba-c6ac6ec87403"
      },
      "execution_count": 7,
      "outputs": [
        {
          "output_type": "display_data",
          "data": {
            "text/plain": [
              "<Figure size 500x400 with 1 Axes>"
            ],
            "image/png": "[encoded data removed]"
          },
          "metadata": {}
        }
      ]
    },
    {
      "cell_type": "markdown",
      "source": [
        "### A proporção dos targets é 40% maior do que o publico de controle"
      ],
      "metadata": {
        "id": "qgfWWgVdHdtp"
      }
    },
    {
      "source": [
        "df_proporcao_target = df_pedidos_ab_teste[\"is_target\"].value_counts(normalize=True) * 100\n",
        "df_proporcao_target"
      ],
      "cell_type": "code",
      "metadata": {
        "colab": {
          "base_uri": "https://localhost:8080/",
          "height": 178
        },
        "id": "DItaAlV4oEcq",
        "outputId": "960da09c-682c-4d7d-a984-4c40477ed30d"
      },
      "execution_count": 8,
      "outputs": [
        {
          "output_type": "execute_result",
          "data": {
            "text/plain": [
              "is_target\n",
              "target     58.440525\n",
              "control    41.559475\n",
              "Name: proportion, dtype: float64"
            ],
            "text/html": [
              "<div>\n",
              "<style scoped>\n",
              "    .dataframe tbody tr th:only-of-type {\n",
              "        vertical-align: middle;\n",
              "    }\n",
              "\n",
              "    .dataframe tbody tr th {\n",
              "        vertical-align: top;\n",
              "    }\n",
              "\n",
              "    .dataframe thead th {\n",
              "        text-align: right;\n",
              "    }\n",
              "</style>\n",
              "<table border=\"1\" class=\"dataframe\">\n",
              "  <thead>\n",
              "    <tr style=\"text-align: right;\">\n",
              "      <th></th>\n",
              "      <th>proportion</th>\n",
              "    </tr>\n",
              "    <tr>\n",
              "      <th>is_target</th>\n",
              "      <th></th>\n",
              "    </tr>\n",
              "  </thead>\n",
              "  <tbody>\n",
              "    <tr>\n",
              "      <th>target</th>\n",
              "      <td>58.440525</td>\n",
              "    </tr>\n",
              "    <tr>\n",
              "      <th>control</th>\n",
              "      <td>41.559475</td>\n",
              "    </tr>\n",
              "  </tbody>\n",
              "</table>\n",
              "</div><br><label><b>dtype:</b> float64</label>"
            ]
          },
          "metadata": {},
          "execution_count": 8
        }
      ]
    },
    {
      "cell_type": "code",
      "source": [
        "plt.figure(figsize=(5, 4))\n",
        "plt.title(\"Proporção dos targets\")\n",
        "plt.ylim([0, 70])\n",
        "plt.bar(df_proporcao_target.index, df_proporcao_target.values)\n",
        "for i, value in enumerate(df_proporcao_target.values):\n",
        "    plt.text(i, value, f'{value/100:.2%}', ha='center', va='bottom')"
      ],
      "metadata": {
        "colab": {
          "base_uri": "https://localhost:8080/",
          "height": 391
        },
        "id": "Yd-1Jl7-n23f",
        "outputId": "1c3e55ed-66a7-4264-8850-2251a1485037"
      },
      "execution_count": 9,
      "outputs": [
        {
          "output_type": "display_data",
          "data": {
            "text/plain": [
              "<Figure size 500x400 with 1 Axes>"
            ],
            "image/png": "[encoded data removed]"
          },
          "metadata": {}
        }
      ]
    },
    {
      "cell_type": "markdown",
      "source": [
        "## Avaliando os outliers"
      ],
      "metadata": {
        "id": "Rdz6Huf6b2_S"
      }
    },
    {
      "cell_type": "code",
      "source": [
        "# Estatísticas por grupo (incluindo percentis)\n",
        "print(df_pedidos_ab_teste.groupby('is_target')['order_total_amount'].describe(percentiles=[0.25, 0.5, 0.75, 0.95, 0.99]))"
      ],
      "metadata": {
        "colab": {
          "base_uri": "https://localhost:8080/"
        },
        "id": "pWAF5gjVcQV1",
        "outputId": "172aec0b-db4d-459c-d04e-2b9316c6ae87"
      },
      "execution_count": 10,
      "outputs": [
        {
          "output_type": "stream",
          "name": "stdout",
          "text": [
            "               count       mean         std  min    25%   50%   75%     95%  \\\n",
            "is_target                                                                     \n",
            "control    1525576.0  47.897891  165.052170  0.0  26.99  39.9  57.3  107.96   \n",
            "target     2145250.0  47.901594   71.649248  0.0  26.90  39.9  57.4  108.70   \n",
            "\n",
            "             99%       max  \n",
            "is_target                   \n",
            "control    175.0  138750.9  \n",
            "target     178.0   57200.0  \n"
          ]
        }
      ]
    },
    {
      "cell_type": "markdown",
      "source": [
        "A base tem muitos outliers -  que presisamos expurgar"
      ],
      "metadata": {
        "id": "A2qUyWx68t1N"
      }
    },
    {
      "cell_type": "code",
      "source": [
        "plt.figure(figsize=(10, 5))\n",
        "sns.boxplot(data=df_pedidos_ab_teste, x='is_target', y='order_total_amount')\n",
        "plt.title('Distribuição do Ticket Médio (com Outliers)')\n",
        "plt.show()"
      ],
      "metadata": {
        "colab": {
          "base_uri": "https://localhost:8080/",
          "height": 488
        },
        "id": "6pm5CIq779eV",
        "outputId": "c793df2b-8864-4e68-e5ec-332e476598eb"
      },
      "execution_count": 20,
      "outputs": [
        {
          "output_type": "display_data",
          "data": {
            "text/plain": [
              "<Figure size 1000x500 with 1 Axes>"
            ],
            "image/png": "[encoded data removed]"
          },
          "metadata": {}
        }
      ]
    },
    {
      "cell_type": "markdown",
      "source": [
        "Visualização do boxplot sem os outliers"
      ],
      "metadata": {
        "id": "LMTyxGn081By"
      }
    },
    {
      "cell_type": "code",
      "source": [
        "plt.figure(figsize=(10, 5))\n",
        "sns.boxplot(data=df_pedidos_ab_teste, x='is_target', y='order_total_amount', showfliers=False)\n",
        "plt.title('Distribuição do Ticket Médio -Sem Outliers')\n",
        "plt.show()"
      ],
      "metadata": {
        "colab": {
          "base_uri": "https://localhost:8080/",
          "height": 488
        },
        "id": "E6FzUC3kb5Cs",
        "outputId": "c31e67dc-84c3-456b-d8a3-8a0558dcffe0"
      },
      "execution_count": 22,
      "outputs": [
        {
          "output_type": "display_data",
          "data": {
            "text/plain": [
              "<Figure size 1000x500 with 1 Axes>"
            ],
            "image/png": "[encoded data removed]"
          },
          "metadata": {}
        }
      ]
    },
    {
      "cell_type": "code",
      "source": [
        "lower_limit = df_pedidos_ab_teste['order_total_amount'].quantile(0.01)\n",
        "upper_limit = df_pedidos_ab_teste['order_total_amount'].quantile(0.99)"
      ],
      "metadata": {
        "id": "GasysR2YAnCW"
      },
      "execution_count": null,
      "outputs": []
    },
    {
      "cell_type": "code",
      "source": [
        "df_filtrado = df_pedidos_ab_teste[\n",
        "    (df_pedidos_ab_teste['order_total_amount'] >= lower_limit) &\n",
        "    (df_pedidos_ab_teste['order_total_amount'] <= upper_limit)\n",
        "]\n",
        "\n",
        "print(f\"Original: {len(df_pedidos_ab_teste)} linhas | Filtrado: {len(df_filtrado)} linhas\")"
      ],
      "metadata": {
        "colab": {
          "base_uri": "https://localhost:8080/"
        },
        "id": "360sazVKAm0c",
        "outputId": "e997f172-a2c9-4bbe-921e-7e50f81c1d0d"
      },
      "execution_count": 29,
      "outputs": [
        {
          "output_type": "stream",
          "name": "stdout",
          "text": [
            "Original: 3670826 linhas | Filtrado: 3597571 linhas\n"
          ]
        }
      ]
    },
    {
      "cell_type": "code",
      "source": [
        "plt.figure(figsize=(14, 5))\n",
        "sns.histplot(df_filtrado['order_total_amount'], bins=50, kde=True)\n",
        "plt.title('Distribuição com Limites de Outliers')\n",
        "plt.legend()\n",
        "plt.show()"
      ],
      "metadata": {
        "colab": {
          "base_uri": "https://localhost:8080/",
          "height": 542
        },
        "id": "nCd0wTSH_Y67",
        "outputId": "2ebd0443-7da0-4ceb-f465-c6c4a430ee17"
      },
      "execution_count": 30,
      "outputs": [
        {
          "output_type": "stream",
          "name": "stderr",
          "text": [
            "<ipython-input-30-26d868dc090c>:4: UserWarning: No artists with labels found to put in legend.  Note that artists whose label start with an underscore are ignored when legend() is called with no argument.\n",
            "  plt.legend()\n"
          ]
        },
        {
          "output_type": "display_data",
          "data": {
            "text/plain": [
              "<Figure size 1400x500 with 1 Axes>"
            ],
            "image/png": "[encoded data removed]"
          },
          "metadata": {}
        }
      ]
    },
    {
      "cell_type": "markdown",
      "source": [
        "## Ticket Médio dos grupos"
      ],
      "metadata": {
        "id": "W9Qh-jl_DWZJ"
      }
    },
    {
      "cell_type": "code",
      "source": [
        "df_teste_hipotese = df_pedidos_ab_teste[['is_target','order_total_amount']].copy()"
      ],
      "metadata": {
        "id": "XuPgulfQUJso"
      },
      "execution_count": 13,
      "outputs": []
    },
    {
      "cell_type": "code",
      "source": [
        "# Extrai os valores como arrays NumPy (já aplicando dropna())\n",
        "gp_target = df_teste_hipotese.loc[df_teste_hipotese['is_target'] == 'target','order_total_amount'].dropna().to_numpy(dtype='float32')\n",
        "\n",
        "gp_controle = df_teste_hipotese.loc[df_teste_hipotese['is_target'] == 'control','order_total_amount'].dropna().to_numpy(dtype='float32')\n"
      ],
      "metadata": {
        "id": "WUbj-aTWMPMV"
      },
      "execution_count": 14,
      "outputs": []
    },
    {
      "cell_type": "code",
      "source": [
        "# Teste de hipotese entre os grupos\n",
        "t_stat, p_value = ttest_ind(gp_target, gp_controle, method=None)\n",
        "\n",
        "print(f\"\"\"\n",
        "📊 Resultado do Teste T:\n",
        "- Estatística T = {t_stat:.4f}\n",
        "- P-value = {p_value:.10f}  # Notação científica se necessário\n",
        "\"\"\")"
      ],
      "metadata": {
        "colab": {
          "base_uri": "https://localhost:8080/"
        },
        "id": "OnFdmNtANIj-",
        "outputId": "d23042af-81f8-4209-dd69-dae674bd8148"
      },
      "execution_count": 15,
      "outputs": [
        {
          "output_type": "stream",
          "name": "stdout",
          "text": [
            "\n",
            "📊 Resultado do Teste T:\n",
            "- Estatística T = 0.0291\n",
            "- P-value = 0.9767571898  # Notação científica se necessário\n",
            "\n"
          ]
        }
      ]
    },
    {
      "cell_type": "markdown",
      "source": [
        "Diferença minima entre os grupos, P-value alto mostra que não há evidencia estastistica suficiente para para afirmar impacto, pode ser acaso"
      ],
      "metadata": {
        "id": "hMKFEom4R4oh"
      }
    },
    {
      "cell_type": "code",
      "source": [
        "# Define o tamanho da amostra (ex: 10% de cada grupo)\n",
        "sample_size = 0.1  # Ajuste conforme necessário\n",
        "\n",
        "# Amostra aleatória do grupo_target\n",
        "idx_target = np.random.choice(len(gp_target), size=int(len(gp_target) * sample_size), replace=False)\n",
        "amostra_target = gp_target[idx_target]\n",
        "\n",
        "# Amostra aleatória do grupo_controle\n",
        "idx_controle = np.random.choice(len(gp_controle),size=int(len(gp_controle) * sample_size), replace=False)\n",
        "\n",
        "amostra_controle = gp_controle[idx_controle]"
      ],
      "metadata": {
        "id": "axlhRFIBSIja"
      },
      "execution_count": 16,
      "outputs": []
    },
    {
      "cell_type": "code",
      "source": [
        "display(df_gb_retencao, df_ticket_medio, df_frequencia_pedidos)"
      ],
      "metadata": {
        "colab": {
          "base_uri": "https://localhost:8080/",
          "height": 500
        },
        "id": "oQ4VNdqBFxiw",
        "outputId": "9836d9dc-cb3b-42df-b7df-bc772186ed8b"
      },
      "execution_count": 42,
      "outputs": [
        {
          "output_type": "display_data",
          "data": {
            "text/plain": [
              "is_target\n",
              "control    0.747045\n",
              "target     0.795064\n",
              "Name: order_id, dtype: float64"
            ],
            "text/html": [
              "<div>\n",
              "<style scoped>\n",
              "    .dataframe tbody tr th:only-of-type {\n",
              "        vertical-align: middle;\n",
              "    }\n",
              "\n",
              "    .dataframe tbody tr th {\n",
              "        vertical-align: top;\n",
              "    }\n",
              "\n",
              "    .dataframe thead th {\n",
              "        text-align: right;\n",
              "    }\n",
              "</style>\n",
              "<table border=\"1\" class=\"dataframe\">\n",
              "  <thead>\n",
              "    <tr style=\"text-align: right;\">\n",
              "      <th></th>\n",
              "      <th>order_id</th>\n",
              "    </tr>\n",
              "    <tr>\n",
              "      <th>is_target</th>\n",
              "      <th></th>\n",
              "    </tr>\n",
              "  </thead>\n",
              "  <tbody>\n",
              "    <tr>\n",
              "      <th>control</th>\n",
              "      <td>0.747045</td>\n",
              "    </tr>\n",
              "    <tr>\n",
              "      <th>target</th>\n",
              "      <td>0.795064</td>\n",
              "    </tr>\n",
              "  </tbody>\n",
              "</table>\n",
              "</div><br><label><b>dtype:</b> float64</label>"
            ]
          },
          "metadata": {}
        },
        {
          "output_type": "display_data",
          "data": {
            "text/plain": [
              "is_target\n",
              "control    47.897891\n",
              "target     47.901594\n",
              "Name: order_total_amount, dtype: float64"
            ],
            "text/html": [
              "<div>\n",
              "<style scoped>\n",
              "    .dataframe tbody tr th:only-of-type {\n",
              "        vertical-align: middle;\n",
              "    }\n",
              "\n",
              "    .dataframe tbody tr th {\n",
              "        vertical-align: top;\n",
              "    }\n",
              "\n",
              "    .dataframe thead th {\n",
              "        text-align: right;\n",
              "    }\n",
              "</style>\n",
              "<table border=\"1\" class=\"dataframe\">\n",
              "  <thead>\n",
              "    <tr style=\"text-align: right;\">\n",
              "      <th></th>\n",
              "      <th>order_total_amount</th>\n",
              "    </tr>\n",
              "    <tr>\n",
              "      <th>is_target</th>\n",
              "      <th></th>\n",
              "    </tr>\n",
              "  </thead>\n",
              "  <tbody>\n",
              "    <tr>\n",
              "      <th>control</th>\n",
              "      <td>47.897891</td>\n",
              "    </tr>\n",
              "    <tr>\n",
              "      <th>target</th>\n",
              "      <td>47.901594</td>\n",
              "    </tr>\n",
              "  </tbody>\n",
              "</table>\n",
              "</div><br><label><b>dtype:</b> float64</label>"
            ]
          },
          "metadata": {}
        },
        {
          "output_type": "display_data",
          "data": {
            "text/plain": [
              "is_target\n",
              "control    4.231341\n",
              "target     4.791725\n",
              "Name: order_id, dtype: float64"
            ],
            "text/html": [
              "<div>\n",
              "<style scoped>\n",
              "    .dataframe tbody tr th:only-of-type {\n",
              "        vertical-align: middle;\n",
              "    }\n",
              "\n",
              "    .dataframe tbody tr th {\n",
              "        vertical-align: top;\n",
              "    }\n",
              "\n",
              "    .dataframe thead th {\n",
              "        text-align: right;\n",
              "    }\n",
              "</style>\n",
              "<table border=\"1\" class=\"dataframe\">\n",
              "  <thead>\n",
              "    <tr style=\"text-align: right;\">\n",
              "      <th></th>\n",
              "      <th>order_id</th>\n",
              "    </tr>\n",
              "    <tr>\n",
              "      <th>is_target</th>\n",
              "      <th></th>\n",
              "    </tr>\n",
              "  </thead>\n",
              "  <tbody>\n",
              "    <tr>\n",
              "      <th>control</th>\n",
              "      <td>4.231341</td>\n",
              "    </tr>\n",
              "    <tr>\n",
              "      <th>target</th>\n",
              "      <td>4.791725</td>\n",
              "    </tr>\n",
              "  </tbody>\n",
              "</table>\n",
              "</div><br><label><b>dtype:</b> float64</label>"
            ]
          },
          "metadata": {}
        }
      ]
    }
  ]
}