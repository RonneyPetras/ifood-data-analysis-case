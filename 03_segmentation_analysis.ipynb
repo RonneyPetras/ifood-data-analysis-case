{
  "nbformat": 4,
  "nbformat_minor": 0,
  "metadata": {
    "colab": {
      "provenance": [],
      "authorship_tag": "ABX9TyPG+sKGQ7nXxZ3yxCzKHZEE",
      "include_colab_link": true
    },
    "kernelspec": {
      "name": "python3",
      "display_name": "Python 3"
    },
    "language_info": {
      "name": "python"
    }
  },
  "cells": [
    {
      "cell_type": "markdown",
      "metadata": {
        "id": "view-in-github",
        "colab_type": "text"
      },
      "source": [
        "<a href=\"https://colab.research.google.com/github/RonneyPetras/ifood-data-analysis-case/blob/main/03_segmentation_analysis.ipynb\" target=\"_parent\"><img src=\"https://colab.research.google.com/assets/colab-badge.svg\" alt=\"Open In Colab\"/></a>"
      ]
    },
    {
      "cell_type": "markdown",
      "source": [
        "# Segmentções"
      ],
      "metadata": {
        "id": "gOe3ybOpag6c"
      }
    },
    {
      "cell_type": "markdown",
      "source": [
        "### Importando blibiotecas"
      ],
      "metadata": {
        "id": "hbX7bdu1amlQ"
      }
    },
    {
      "cell_type": "code",
      "source": [
        "import pandas as pd\n",
        "import os\n",
        "from google.colab import drive\n",
        "import matplotlib.pyplot as plt\n",
        "import seaborn as sns\n",
        "from scipy.stats import ttest_ind, chi2_contingency, mannwhitneyu, shapiro\n",
        "import numpy as np"
      ],
      "metadata": {
        "id": "mBHKOEw6aj3I"
      },
      "execution_count": 13,
      "outputs": []
    },
    {
      "cell_type": "markdown",
      "source": [
        "### Montando o Gdrive, altere o caminho se necessário"
      ],
      "metadata": {
        "id": "mp8eUSnZauTn"
      }
    },
    {
      "cell_type": "code",
      "source": [
        "caminho_gdrive = \"/content/drive/MyDrive/ifood_case/ifood-data\" # @param {\"type\":\"string\"}"
      ],
      "metadata": {
        "id": "uXoT36R6arEt"
      },
      "execution_count": 14,
      "outputs": []
    },
    {
      "cell_type": "code",
      "source": [
        "drive.mount('/content/drive')\n",
        "\n",
        "# Define caminho (substitua SEU_DIRETORIO pelo nome da pasta que você quer usar)\n",
        "os.makedirs(caminho_gdrive, exist_ok=True)"
      ],
      "metadata": {
        "colab": {
          "base_uri": "https://localhost:8080/"
        },
        "id": "FFkqb85caxAi",
        "outputId": "5c10b1a0-b2f8-48e6-d08b-e4116cb043b4"
      },
      "execution_count": 15,
      "outputs": [
        {
          "output_type": "stream",
          "name": "stdout",
          "text": [
            "Drive already mounted at /content/drive; to attempt to forcibly remount, call drive.mount(\"/content/drive\", force_remount=True).\n"
          ]
        }
      ]
    },
    {
      "cell_type": "markdown",
      "source": [
        "# Analisando segmentações"
      ],
      "metadata": {
        "id": "2iAVAleCa8t1"
      }
    },
    {
      "cell_type": "markdown",
      "source": [
        "* Segmento por Valor Gasto (Baixo/Médio/Alto):\n",
        "* Segmento por Frequência (Ocasional/Frequente):\n",
        "* Segmento por Localização (Exemplo: São Paulo vs Outros):"
      ],
      "metadata": {
        "id": "VVo4hL7lbVOA"
      }
    },
    {
      "cell_type": "markdown",
      "source": [
        "### Importação da base e merge"
      ],
      "metadata": {
        "id": "7qNid4IBcOg_"
      }
    },
    {
      "cell_type": "code",
      "source": [
        "df_pedidos = pd.read_parquet(caminho_gdrive+'/df_expurgado.parquet')\n",
        "df_pedidos.info()"
      ],
      "metadata": {
        "colab": {
          "base_uri": "https://localhost:8080/"
        },
        "id": "S2SBLjC_cKhJ",
        "outputId": "f37e5fbf-b389-4d75-8502-4405e80ffd63"
      },
      "execution_count": 16,
      "outputs": [
        {
          "output_type": "stream",
          "name": "stdout",
          "text": [
            "<class 'pandas.core.frame.DataFrame'>\n",
            "Index: 3597571 entries, 0 to 3670825\n",
            "Data columns (total 5 columns):\n",
            " #   Column              Dtype  \n",
            "---  ------              -----  \n",
            " 0   order_id            object \n",
            " 1   customer_id         object \n",
            " 2   order_total_amount  float64\n",
            " 3   merchant_id         object \n",
            " 4   is_target           object \n",
            "dtypes: float64(1), object(4)\n",
            "memory usage: 164.7+ MB\n"
          ]
        }
      ]
    },
    {
      "cell_type": "code",
      "source": [
        "df_consumer = pd.read_csv(caminho_gdrive+'/consumer.csv')\n",
        "df_consumer = df_consumer[['customer_id', 'active', 'customer_phone_area']]\n",
        "df_consumer.info()"
      ],
      "metadata": {
        "colab": {
          "base_uri": "https://localhost:8080/"
        },
        "id": "zW75fyi7c7Pg",
        "outputId": "6d18d8c8-930a-4261-9808-1915cc339621"
      },
      "execution_count": 17,
      "outputs": [
        {
          "output_type": "stream",
          "name": "stdout",
          "text": [
            "<class 'pandas.core.frame.DataFrame'>\n",
            "RangeIndex: 806156 entries, 0 to 806155\n",
            "Data columns (total 3 columns):\n",
            " #   Column               Non-Null Count   Dtype \n",
            "---  ------               --------------   ----- \n",
            " 0   customer_id          806156 non-null  object\n",
            " 1   active               806156 non-null  bool  \n",
            " 2   customer_phone_area  806156 non-null  int64 \n",
            "dtypes: bool(1), int64(1), object(1)\n",
            "memory usage: 13.1+ MB\n"
          ]
        }
      ]
    },
    {
      "cell_type": "code",
      "source": [
        "df_restaurant = pd.read_csv(caminho_gdrive+'/restaurant.csv')\n",
        "df_restaurant = df_restaurant[['id', 'merchant_city', 'merchant_state']]\n",
        "df_restaurant.info()"
      ],
      "metadata": {
        "colab": {
          "base_uri": "https://localhost:8080/"
        },
        "id": "6XYTaqVBdE_P",
        "outputId": "2bcfc1b4-05f5-448b-9d73-a8741a71f544"
      },
      "execution_count": 18,
      "outputs": [
        {
          "output_type": "stream",
          "name": "stdout",
          "text": [
            "<class 'pandas.core.frame.DataFrame'>\n",
            "RangeIndex: 7292 entries, 0 to 7291\n",
            "Data columns (total 3 columns):\n",
            " #   Column          Non-Null Count  Dtype \n",
            "---  ------          --------------  ----- \n",
            " 0   id              7292 non-null   object\n",
            " 1   merchant_city   7292 non-null   object\n",
            " 2   merchant_state  7292 non-null   object\n",
            "dtypes: object(3)\n",
            "memory usage: 171.0+ KB\n"
          ]
        }
      ]
    },
    {
      "cell_type": "code",
      "source": [
        "df_merged = pd.merge(df_pedidos, df_consumer, on='customer_id')\n",
        "df_merged = pd.merge(df_merged, df_restaurant, left_on='merchant_id', right_on='id')\n",
        "df_merged.info()"
      ],
      "metadata": {
        "colab": {
          "base_uri": "https://localhost:8080/"
        },
        "id": "MRdb0cV_jC6q",
        "outputId": "c05db391-1dc3-42b0-c860-c8b01091e20a"
      },
      "execution_count": 19,
      "outputs": [
        {
          "output_type": "stream",
          "name": "stdout",
          "text": [
            "<class 'pandas.core.frame.DataFrame'>\n",
            "RangeIndex: 3588508 entries, 0 to 3588507\n",
            "Data columns (total 10 columns):\n",
            " #   Column               Dtype  \n",
            "---  ------               -----  \n",
            " 0   order_id             object \n",
            " 1   customer_id          object \n",
            " 2   order_total_amount   float64\n",
            " 3   merchant_id          object \n",
            " 4   is_target            object \n",
            " 5   active               bool   \n",
            " 6   customer_phone_area  int64  \n",
            " 7   id                   object \n",
            " 8   merchant_city        object \n",
            " 9   merchant_state       object \n",
            "dtypes: bool(1), float64(1), int64(1), object(7)\n",
            "memory usage: 249.8+ MB\n"
          ]
        }
      ]
    },
    {
      "cell_type": "markdown",
      "source": [
        "#### Segmentação por faixa de preço"
      ],
      "metadata": {
        "id": "FvYHxLDTaAZK"
      }
    },
    {
      "cell_type": "code",
      "source": [
        "# Calcular gasto médio por usuário\n",
        "df_faixa_preco = df_merged.groupby('customer_id')['order_total_amount'].sum().reset_index()\n",
        "df_faixa_preco['segment'] = pd.qcut(df_faixa_preco['order_total_amount'], q=3, labels=['baixo', 'médio', 'alto'])"
      ],
      "metadata": {
        "collapsed": true,
        "id": "2inB9TUCcGV2"
      },
      "execution_count": 20,
      "outputs": []
    },
    {
      "cell_type": "code",
      "source": [
        "# calcular os indicadores para os segumentos\n",
        "def calcula_indicadores(segment_name, segment_df):\n",
        "    # Juntar com dados do A/B Test\n",
        "    segment_ab = pd.merge(segment_df, df_merged[['customer_id', 'is_target']], on='customer_id')\n",
        "\n",
        "    # Métricas por grupo (target vs controle)\n",
        "    indicadores = segment_ab.groupby(['segment', 'is_target'], observed=False).agg(\n",
        "        qtd=('customer_id', 'nunique'),\n",
        "        ticket_medio=('order_total_amount', 'mean'),\n",
        "        total=('order_total_amount', 'sum')\n",
        "    ).reset_index()\n",
        "\n",
        "    return indicadores"
      ],
      "metadata": {
        "id": "fqW426B-b8P2"
      },
      "execution_count": 21,
      "outputs": []
    },
    {
      "cell_type": "code",
      "source": [],
      "metadata": {
        "id": "nIqCRUgf3xWM"
      },
      "execution_count": 35,
      "outputs": []
    },
    {
      "cell_type": "code",
      "source": [
        "indicadores_segmentado = calcula_indicadores('valor_gasto', df_faixa_preco)"
      ],
      "metadata": {
        "id": "ZbmCHY_gFbeA"
      },
      "execution_count": 22,
      "outputs": []
    },
    {
      "cell_type": "code",
      "source": [
        "plt.figure(figsize=(10, 4))\n",
        "sns.barplot(x='segment', y='ticket_medio', hue='is_target', data=indicadores_segmentado)\n",
        "plt.title('Ticket Médio por Segmento de Valor Gasto')\n",
        "plt.ylabel('R$')\n",
        "plt.show()\n",
        "print(indicadores_segmentado)"
      ],
      "metadata": {
        "colab": {
          "base_uri": "https://localhost:8080/",
          "height": 539
        },
        "id": "WjKJ8_uEMOpn",
        "outputId": "d9f8bdfd-be30-48d0-c838-61472d42fda0"
      },
      "execution_count": 23,
      "outputs": [
        {
          "output_type": "display_data",
          "data": {
            "text/plain": [
              "<Figure size 1000x400 with 1 Axes>"
            ],
            "image/png": "[encoded data removed]"
          },
          "metadata": {}
        },
        {
          "output_type": "stream",
          "name": "stdout",
          "text": [
            "  segment is_target     qtd  ticket_medio         total\n",
            "0   baixo   control  129677     45.980196  8.596320e+06\n",
            "1   baixo    target  136273     46.744799  9.479097e+06\n",
            "2   médio   control  118541    120.782720  3.867970e+07\n",
            "3   médio    target  147423    122.765439  5.232165e+07\n",
            "4    alto   control  108160    722.519410  7.138412e+08\n",
            "5    alto    target  157771    729.399270  1.068091e+09\n"
          ]
        }
      ]
    },
    {
      "cell_type": "markdown",
      "source": [
        "#### Segmentação por frequencia de pedidos"
      ],
      "metadata": {
        "id": "5-D_LW7paJzC"
      }
    },
    {
      "cell_type": "code",
      "source": [
        "df_frequencia_pedidos = df_merged.groupby('customer_id')['order_id'].count().reset_index()\n",
        "df_frequencia_pedidos['segment'] = np.where(df_frequencia_pedidos['order_id'] > df_frequencia_pedidos['order_id'].median(), 'frequente', 'ocasional')\n",
        "df_frequencia_pedidos = pd.merge(df_frequencia_pedidos, df_merged[['customer_id', 'order_total_amount']], on='customer_id', how='left')"
      ],
      "metadata": {
        "id": "5-wghziQZQyB"
      },
      "execution_count": 25,
      "outputs": []
    },
    {
      "cell_type": "code",
      "source": [
        "indicadores_segmentado = calcula_indicadores('valor_gasto', df_frequencia_pedidos)"
      ],
      "metadata": {
        "id": "lR-G5wfgajpo"
      },
      "execution_count": 26,
      "outputs": []
    },
    {
      "cell_type": "code",
      "source": [
        "plt.figure(figsize=(10, 4))\n",
        "sns.barplot(x='segment', y='ticket_medio', hue='is_target', data=indicadores_segmentado)\n",
        "plt.title('Ticket Médio por Segmento de Valor Gasto')\n",
        "plt.ylabel('R$')\n",
        "plt.show()\n",
        "print(indicadores_segmentado)"
      ],
      "metadata": {
        "id": "udeizZxIcbjG",
        "colab": {
          "base_uri": "https://localhost:8080/",
          "height": 502
        },
        "outputId": "39384eb7-73d2-4f9c-f021-9df34b6d2a2a"
      },
      "execution_count": 27,
      "outputs": [
        {
          "output_type": "display_data",
          "data": {
            "text/plain": [
              "<Figure size 1000x400 with 1 Axes>"
            ],
            "image/png": "[encoded data removed]"
          },
          "metadata": {}
        },
        {
          "output_type": "stream",
          "name": "stdout",
          "text": [
            "     segment is_target     qtd  ticket_medio         total\n",
            "0  frequente   control  151594     45.620961  7.358633e+08\n",
            "1  frequente    target  226786     45.694277  1.102953e+09\n",
            "2  ocasional   control  204784     46.090463  2.525393e+07\n",
            "3  ocasional    target  214681     46.049109  2.693905e+07\n"
          ]
        }
      ]
    },
    {
      "cell_type": "code",
      "source": [
        "df_merged.columns"
      ],
      "metadata": {
        "id": "8kKrrFC5wAUn",
        "colab": {
          "base_uri": "https://localhost:8080/"
        },
        "outputId": "9e50f6f1-aa70-4d44-a056-e9564cb01cbd"
      },
      "execution_count": 28,
      "outputs": [
        {
          "output_type": "execute_result",
          "data": {
            "text/plain": [
              "Index(['order_id', 'customer_id', 'order_total_amount', 'merchant_id',\n",
              "       'is_target', 'active', 'customer_phone_area', 'id', 'merchant_city',\n",
              "       'merchant_state'],\n",
              "      dtype='object')"
            ]
          },
          "metadata": {},
          "execution_count": 28
        }
      ]
    },
    {
      "cell_type": "code",
      "source": [
        "top_cidades = ['SAO PAULO', 'RIO DE JANEIRO', 'BELO HORIZONTE', 'FORTALEZA', 'RECIFE', 'BRASILIA']\n",
        "\n",
        "df_segmento_cidade = df_merged[['order_id', 'customer_id', 'merchant_city', 'order_total_amount']].copy()\n",
        "\n",
        "df_segmento_cidade['segment'] = df_segmento_cidade['merchant_city'].apply(\n",
        "    lambda x: x if x in top_cidades else 'Outros'\n",
        ")"
      ],
      "metadata": {
        "id": "SAPDGoKGuTMZ"
      },
      "execution_count": 31,
      "outputs": []
    },
    {
      "cell_type": "code",
      "source": [
        "indicadores_segmentado = calcula_indicadores('valor_gasto', df_segmento_cidade)\n",
        "indicadores_segmentado"
      ],
      "metadata": {
        "id": "kfDxYrJJcnRc"
      },
      "execution_count": null,
      "outputs": []
    },
    {
      "cell_type": "code",
      "source": [
        "plt.figure(figsize=(10, 4))\n",
        "sns.barplot(x='segment', y='ticket_medio', hue='is_target', data=indicadores_segmentado)\n",
        "plt.title('Ticket Médio por Segmento de Valor Gasto')\n",
        "plt.ylabel('R$')\n",
        "plt.show()"
      ],
      "metadata": {
        "colab": {
          "base_uri": "https://localhost:8080/",
          "height": 411
        },
        "id": "e3LZh9Pk3bVi",
        "outputId": "7a09224a-1c6c-48b0-c10e-4c3ec749d18c"
      },
      "execution_count": 33,
      "outputs": [
        {
          "output_type": "display_data",
          "data": {
            "text/plain": [
              "<Figure size 1000x400 with 1 Axes>"
            ],
            "image/png": "[encoded data removed]"
          },
          "metadata": {}
        }
      ]
    }
  ]
}